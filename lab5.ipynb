{
 "cells": [
  {
   "cell_type": "code",
   "execution_count": 12,
   "metadata": {},
   "outputs": [],
   "source": [
    "#Design a low Pass FIR filter using Window design method for following specification\n",
    "#Wp = 0.2pi\n",
    "#Ws = 0.3pi\n",
    "#dp = ds = 0.01"
   ]
  },
  {
   "cell_type": "code",
   "execution_count": 13,
   "metadata": {},
   "outputs": [],
   "source": [
    "#libraries required for the day\n",
    "import numpy as np\n",
    "import matplotlib.pyplot as plt"
   ]
  },
  {
   "cell_type": "code",
   "execution_count": 14,
   "metadata": {},
   "outputs": [],
   "source": [
    "Wp = 0.2 * np.pi\n",
    "Ws = 0.3 * np.pi\n",
    "dp = 0.01\n",
    "ds = 0.01\n",
    "lobe_width = Ws - Wp\n",
    "M = 8 * np.pi / lobe_width\n",
    "peak = -1 * 20* np.log10(ds)\n",
    "tau = M / 2\n"
   ]
  }
 ],
 "metadata": {
  "kernelspec": {
   "display_name": "Python 3",
   "language": "python",
   "name": "python3"
  },
  "language_info": {
   "codemirror_mode": {
    "name": "ipython",
    "version": 3
   },
   "file_extension": ".py",
   "mimetype": "text/x-python",
   "name": "python",
   "nbconvert_exporter": "python",
   "pygments_lexer": "ipython3",
   "version": "3.10.11"
  },
  "orig_nbformat": 4
 },
 "nbformat": 4,
 "nbformat_minor": 2
}
