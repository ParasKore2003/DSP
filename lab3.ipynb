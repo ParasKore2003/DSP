{
 "cells": [
  {
   "cell_type": "code",
   "execution_count": null,
   "metadata": {},
   "outputs": [],
   "source": [
    "# #Lab 3\n",
    "# Write a code to retrieve the continuous signal from sampled signal using\n",
    "# 1) Zero Order Hold (ZOH)\n",
    "# 2) First Order Hold (FOH)\n",
    "\n",
    "# Assignment perform approximate Ideal reconstruction for the same\n",
    "# x = sin(w1t) + sin(w2t)\n",
    "#f1 = 2  f2 = 5 t_start = 0, t_end = 1, t_step = 0.0001\n",
    "#sampling time 0.1, 0.01, 0.001"
   ]
  },
  {
   "cell_type": "code",
   "execution_count": null,
   "metadata": {},
   "outputs": [],
   "source": [
    "#Libraries required\n",
    "import numpy as np\n",
    "import matplotlib.pyplot as plt"
   ]
  },
  {
   "cell_type": "code",
   "execution_count": null,
   "metadata": {},
   "outputs": [],
   "source": [
    "def sampler(w_1,w_2,T_s):\n",
    "    answer = [(np.sin(w_1 * i) + np.sin(w_2 * i)) for i in np.arange(0,1,T_s)]\n",
    "    return answer"
   ]
  },
  {
   "cell_type": "code",
   "execution_count": null,
   "metadata": {},
   "outputs": [],
   "source": [
    "def recon(P,T_S):\n",
    "    h = [1 for i in np.arange(0,T_S,0.001)]\n",
    "    y = np.convolve(P, h)\n",
    "    return y"
   ]
  },
  {
   "cell_type": "code",
   "execution_count": null,
   "metadata": {},
   "outputs": [],
   "source": [
    "def Foh(S, T_s2):\n",
    "    tri_pulse = [t/T_s2 for t in np.arange(0,T_s2,0.0001)] + [2 - (t/T_s2) for t in np.arange(T_s2, 2 * T_s2, 0.0001)]\n",
    "    Y_foh = np.convolve(S ,tri_pulse)\n",
    "    return Y_foh"
   ]
  },
  {
   "cell_type": "code",
   "execution_count": null,
   "metadata": {},
   "outputs": [],
   "source": [
    "f1 = 2\n",
    "w1 = np.pi * 2 * f1\n",
    "f2 = 5\n",
    "w2 = np.pi * 2 * f2\n",
    "Ts = 0.0001\n",
    "X = sampler(w1,w2,Ts)\n",
    "plt.plot(X)"
   ]
  },
  {
   "cell_type": "code",
   "execution_count": null,
   "metadata": {},
   "outputs": [],
   "source": [
    "Ts1 = 0.1\n",
    "X1 = sampler(w1,w2,Ts1)\n",
    "plt.stem(X1)"
   ]
  },
  {
   "cell_type": "code",
   "execution_count": null,
   "metadata": {},
   "outputs": [],
   "source": [
    "Ts2 = 0.01\n",
    "X2 = sampler(w1,w2,Ts2)\n",
    "plt.stem(X2)"
   ]
  },
  {
   "cell_type": "code",
   "execution_count": null,
   "metadata": {},
   "outputs": [],
   "source": [
    "Ts3 = 0.001\n",
    "X3 = sampler(w1,w2,Ts3)\n",
    "plt.stem(X3)"
   ]
  },
  {
   "cell_type": "code",
   "execution_count": null,
   "metadata": {},
   "outputs": [],
   "source": [
    "#Zero order hold signal reconstruction Ts = 0.1\n",
    "Y1 = recon(X1,Ts1)\n",
    "plt.plot(Y1[0:10])"
   ]
  },
  {
   "cell_type": "code",
   "execution_count": null,
   "metadata": {},
   "outputs": [],
   "source": [
    "#Zero order hold signal reconstruction Ts = 0.01\n",
    "Y2 = recon(X2,Ts2)\n",
    "plt.plot(Y2[0:100])"
   ]
  },
  {
   "cell_type": "code",
   "execution_count": null,
   "metadata": {},
   "outputs": [],
   "source": [
    "#Zero order hold signal reconstruction Ts = 0.001\n",
    "Y3 = recon(X3,Ts3)\n",
    "plt.plot(Y3[0:1000])"
   ]
  },
  {
   "cell_type": "code",
   "execution_count": null,
   "metadata": {},
   "outputs": [],
   "source": [
    "#first order hold signal reconstruction Ts = 0.1\n",
    "Y_f1 = Foh(X1, Ts1)\n",
    "plt.plot(Y_f1[0:10])"
   ]
  },
  {
   "cell_type": "code",
   "execution_count": null,
   "metadata": {},
   "outputs": [],
   "source": [
    "#first order hold signal reconstruction Ts = 0.01\n",
    "Y_f2 = Foh(X2, Ts2)\n",
    "plt.plot(Y_f2[0:100])"
   ]
  },
  {
   "cell_type": "code",
   "execution_count": null,
   "metadata": {},
   "outputs": [],
   "source": [
    "#first order hold signal reconstruction Ts = 0.001\n",
    "Y_f3 = Foh(X3, Ts3)\n",
    "plt.plot(Y_f3[0:1000])"
   ]
  },
  {
   "cell_type": "code",
   "execution_count": null,
   "metadata": {},
   "outputs": [],
   "source": [
    "#assignment\n",
    "z = 0\n",
    "for i in range(-int(1/(2*Ts3)), int(1/(2*Ts3)), 1):\n",
    "    n = int(i + 1 + (1/(2 * Ts3)))\n",
    "    z += X3[n]*np.sin()"
   ]
  },
  {
   "cell_type": "code",
   "execution_count": null,
   "metadata": {},
   "outputs": [],
   "source": []
  }
 ],
 "metadata": {
  "kernelspec": {
   "display_name": "Python 3",
   "language": "python",
   "name": "python3"
  },
  "language_info": {
   "codemirror_mode": {
    "name": "ipython",
    "version": 3
   },
   "file_extension": ".py",
   "mimetype": "text/x-python",
   "name": "python",
   "nbconvert_exporter": "python",
   "pygments_lexer": "ipython3",
   "version": "3.10.11"
  },
  "orig_nbformat": 4
 },
 "nbformat": 4,
 "nbformat_minor": 2
}
