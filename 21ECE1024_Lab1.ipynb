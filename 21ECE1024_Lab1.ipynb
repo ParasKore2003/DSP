{
 "cells": [
  {
   "cell_type": "code",
   "execution_count": 115,
   "id": "439f4fbd",
   "metadata": {},
   "outputs": [],
   "source": [
    "#LAB 1\n",
    "# Consider 2 finite sequences \n",
    "# x[n]=[1,3,-2,1,2,-1,4,4,2]\n",
    "# y[n] = [2,-1,4,1,-2,3]\n",
    "\n",
    "# dertermine and plot cross correlation, autocoreelation.\n",
    "\n",
    "# add a random noise b[n] and plot gammaxxd[n]\n",
    "# PLot auto correlation of noise signal\n",
    "# compute cross correlation of x[n] and y[n] where y[n]= x[n-N]\n"
   ]
  },
  {
   "cell_type": "code",
   "execution_count": 147,
   "id": "1842117a",
   "metadata": {},
   "outputs": [],
   "source": [
    "#Libraries required for the experiment\n",
    "import matplotlib.pyplot as plt\n",
    "import numpy as np\n",
    "import random\n",
    "from collections import deque"
   ]
  },
  {
   "cell_type": "code",
   "execution_count": 121,
   "id": "4da215cc",
   "metadata": {},
   "outputs": [],
   "source": [
    "def convo(x,y,size,x_s,y_s):\n",
    "    z=[]\n",
    "    z.append(x[0]*y[0])\n",
    "    for n in range(1,size):\n",
    "        sum = 0\n",
    "        for i in range(max(0,n-y_s+1),min(x_s-1,n)):\n",
    "            sum+=x[i]*y[n-i]\n",
    "        z.append(sum)\n",
    "    return z\n",
    "            "
   ]
  },
  {
   "cell_type": "code",
   "execution_count": 122,
   "id": "da4b6967",
   "metadata": {},
   "outputs": [
    {
     "name": "stdout",
     "output_type": "stream",
     "text": [
      "[2, -1, 1, 15, -8, -3, 23, -14, 10, 28, -7, 4, 12, 0]\n"
     ]
    }
   ],
   "source": [
    "x = [1,3,-2,1,2,-1,4,4,2]\n",
    "size_x = len(x)\n",
    "y= [2,-1,4,1,-2,3]\n",
    "size_y = len(y)\n",
    "total_size = size_x + size_y -1\n",
    "print(convo(x,y,total_size,size_x,size_y))"
   ]
  },
  {
   "cell_type": "code",
   "execution_count": 123,
   "id": "f3c8d929",
   "metadata": {},
   "outputs": [
    {
     "name": "stdout",
     "output_type": "stream",
     "text": [
      "[ 2  5 -3 17 -4 -5 31 -6 14 26  1  6  8  6]\n"
     ]
    }
   ],
   "source": [
    "print((np.convolve(x,y)))"
   ]
  },
  {
   "cell_type": "code",
   "execution_count": 124,
   "id": "96c06d6a",
   "metadata": {},
   "outputs": [
    {
     "data": {
      "text/plain": [
       "<StemContainer object of 3 artists>"
      ]
     },
     "execution_count": 124,
     "metadata": {},
     "output_type": "execute_result"
    },
    {
     "data": {
      "image/png": "[encoded data removed]",
      "text/plain": [
       "<Figure size 432x288 with 1 Axes>"
      ]
     },
     "metadata": {
      "needs_background": "light"
     },
     "output_type": "display_data"
    }
   ],
   "source": [
    "#cross correlation\n",
    "gamma_xy = (np.convolve(x,np.flip(y)))\n",
    "plt.stem(gamma_xy)"
   ]
  },
  {
   "cell_type": "code",
   "execution_count": 125,
   "id": "9078343d",
   "metadata": {},
   "outputs": [
    {
     "data": {
      "text/plain": [
       "<StemContainer object of 3 artists>"
      ]
     },
     "execution_count": 125,
     "metadata": {},
     "output_type": "execute_result"
    },
    {
     "data": {
      "image/png": "[encoded data removed]",
      "text/plain": [
       "<Figure size 432x288 with 1 Axes>"
      ]
     },
     "metadata": {
      "needs_background": "light"
     },
     "output_type": "display_data"
    }
   ],
   "source": [
    "#auto correlation\n",
    "gamma_xx = (np.convolve(x,np.flip(x)))\n",
    "plt.stem(gamma_xx)"
   ]
  },
  {
   "cell_type": "code",
   "execution_count": 142,
   "id": "b7d1abbc",
   "metadata": {},
   "outputs": [
    {
     "data": {
      "text/plain": [
       "<StemContainer object of 3 artists>"
      ]
     },
     "execution_count": 142,
     "metadata": {},
     "output_type": "execute_result"
    },
    {
     "data": {
      "image/png": "[encoded data removed]",
      "text/plain": [
       "<Figure size 432x288 with 1 Axes>"
      ]
     },
     "metadata": {
      "needs_background": "light"
     },
     "output_type": "display_data"
    }
   ],
   "source": [
    "#autocorrelation of noise\n",
    "xd1 = [random.randint(-10,10) for i in range(size_x)]\n",
    "xd = np.add(x,xd1)\n",
    "gammaxdx_d = np.convolve(xd,np.flip(xd))\n",
    "plt.stem(gammaxdx_d)"
   ]
  },
  {
   "cell_type": "code",
   "execution_count": 144,
   "id": "988fa499",
   "metadata": {},
   "outputs": [
    {
     "data": {
      "text/plain": [
       "<StemContainer object of 3 artists>"
      ]
     },
     "execution_count": 144,
     "metadata": {},
     "output_type": "execute_result"
    },
    {
     "data": {
      "image/png": "[encoded data removed]",
      "text/plain": [
       "<Figure size 432x288 with 1 Axes>"
      ]
     },
     "metadata": {
      "needs_background": "light"
     },
     "output_type": "display_data"
    }
   ],
   "source": [
    "#correlation with noise\n",
    "gammaxx_d = np.convolve(x,np.flip(xd))\n",
    "plt.stem(gammaxx_d)"
   ]
  },
  {
   "cell_type": "code",
   "execution_count": 149,
   "id": "8907851d",
   "metadata": {},
   "outputs": [
    {
     "data": {
      "text/plain": [
       "<StemContainer object of 3 artists>"
      ]
     },
     "execution_count": 149,
     "metadata": {},
     "output_type": "execute_result"
    },
    {
     "data": {
      "image/png": "[encoded data removed]",
      "text/plain": [
       "<Figure size 432x288 with 1 Axes>"
      ]
     },
     "metadata": {
      "needs_background": "light"
     },
     "output_type": "display_data"
    }
   ],
   "source": [
    "y1 = deque(x)\n",
    "y1.rotate(2)\n",
    "gammaxy1 = np.convolve(x,np.flip(y1))\n",
    "plt.stem(gammaxy1)"
   ]
  },
  {
   "cell_type": "code",
   "execution_count": 150,
   "id": "d8da5990",
   "metadata": {},
   "outputs": [
    {
     "data": {
      "text/plain": [
       "<StemContainer object of 3 artists>"
      ]
     },
     "execution_count": 150,
     "metadata": {},
     "output_type": "execute_result"
    },
    {
     "data": {
      "image/png": "[encoded data removed]",
      "text/plain": [
       "<Figure size 432x288 with 1 Axes>"
      ]
     },
     "metadata": {
      "needs_background": "light"
     },
     "output_type": "display_data"
    }
   ],
   "source": [
    "gammaxd1x_d1 = np.convolve(xd1,np.flip(xd1))\n",
    "plt.stem(gammaxd1x_d1)"
   ]
  },
  {
   "cell_type": "code",
   "execution_count": null,
   "id": "1a5dce42",
   "metadata": {},
   "outputs": [],
   "source": []
  }
 ],
 "metadata": {
  "kernelspec": {
   "display_name": "Python 3 (ipykernel)",
   "language": "python",
   "name": "python3"
  },
  "language_info": {
   "codemirror_mode": {
    "name": "ipython",
    "version": 3
   },
   "file_extension": ".py",
   "mimetype": "text/x-python",
   "name": "python",
   "nbconvert_exporter": "python",
   "pygments_lexer": "ipython3",
   "version": "3.9.7"
  }
 },
 "nbformat": 4,
 "nbformat_minor": 5
}
