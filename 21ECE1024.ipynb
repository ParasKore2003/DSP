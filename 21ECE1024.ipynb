{
 "cells": [
  {
   "cell_type": "code",
   "execution_count": 2,
   "id": "b2cc941f",
   "metadata": {},
   "outputs": [],
   "source": [
    "\n",
    "#LAB 1\n",
    "# Consider 2 finite sequences \n",
    "# x[n]=[1,3,-2,1,2,-1,4,4,2]\n",
    "# y[n] = [2,-1,4,1,-2,3]\n",
    "\n",
    "# dertermine and plot cross correlation, autocoreelation.\n",
    "\n",
    "# add a random noise b[n] and plot gammaxxd[n]\n",
    "# PLot auto correlation of noise signal\n",
    "# compute cross correlation of x[n] and y[n] where y[n]= x[n-N]"
   ]
  },
  {
   "cell_type": "code",
   "execution_count": 3,
   "id": "b21758ac",
   "metadata": {},
   "outputs": [],
   "source": [
    "#Libraries required for the experiment\n",
    "import matplotlib.pyplot as plt\n",
    "import numpy as np\n",
    "import random\n",
    "from collections import deque"
   ]
  },
  {
   "cell_type": "code",
   "execution_count": 15,
   "id": "fcf26185",
   "metadata": {},
   "outputs": [],
   "source": [
    "#To make the convolution function(not yet completed)\n",
    "def convo(x,y,size,x_s,y_s):\n",
    "    z=[]\n",
    "    z.append(x[0]*y[0])\n",
    "    for n in range(1,size):\n",
    "        sum = 0\n",
    "        for i in range(max(0,n-y_s+1),min(x_s-1,n)+1):\n",
    "            sum+=(x[i]*y[n-i])\n",
    "        z.append(sum)\n",
    "    return z\n",
    "            "
   ]
  },
  {
   "cell_type": "code",
   "execution_count": 16,
   "id": "82bd7068",
   "metadata": {},
   "outputs": [
    {
     "name": "stdout",
     "output_type": "stream",
     "text": [
      "[2, 5, -3, 17, -4, -5, 31, -6, 14, 26, 1, 6, 8, 6]\n"
     ]
    }
   ],
   "source": [
    "x = [1,3,-2,1,2,-1,4,4,2]\n",
    "size_x = len(x)\n",
    "y= [2,-1,4,1,-2,3]\n",
    "size_y = len(y)\n",
    "total_size = size_x + size_y -1\n",
    "#This function is not yet ready\n",
    "print(convo(x,y,total_size,size_x,size_y))"
   ]
  },
  {
   "cell_type": "code",
   "execution_count": 6,
   "id": "c543fb30",
   "metadata": {},
   "outputs": [
    {
     "name": "stdout",
     "output_type": "stream",
     "text": [
      "[ 2  5 -3 17 -4 -5 31 -6 14 26  1  6  8  6]\n"
     ]
    }
   ],
   "source": [
    "print((np.convolve(x,y))) #This should be the ouput we get for the convolution function(we have made use of inbuilt function)"
   ]
  },
  {
   "cell_type": "code",
   "execution_count": 7,
   "id": "29adce19",
   "metadata": {},
   "outputs": [
    {
     "data": {
      "text/plain": [
       "<StemContainer object of 3 artists>"
      ]
     },
     "execution_count": 7,
     "metadata": {},
     "output_type": "execute_result"
    },
    {
     "data": {
      "image/png": "[encoded data removed]",
      "text/plain": [
       "<Figure size 432x288 with 1 Axes>"
      ]
     },
     "metadata": {
      "needs_background": "light"
     },
     "output_type": "display_data"
    }
   ],
   "source": [
    "#cross correlation\n",
    "gamma_xy = (np.convolve(x,np.flip(y)))\n",
    "plt.stem(gamma_xy)"
   ]
  },
  {
   "cell_type": "code",
   "execution_count": 8,
   "id": "6420c504",
   "metadata": {},
   "outputs": [
    {
     "data": {
      "text/plain": [
       "<StemContainer object of 3 artists>"
      ]
     },
     "execution_count": 8,
     "metadata": {},
     "output_type": "execute_result"
    },
    {
     "data": {
      "image/png": "[encoded data removed]",
      "text/plain": [
       "<Figure size 432x288 with 1 Axes>"
      ]
     },
     "metadata": {
      "needs_background": "light"
     },
     "output_type": "display_data"
    }
   ],
   "source": [
    "#auto correlation\n",
    "gamma_xx = (np.convolve(x,np.flip(x)))\n",
    "plt.stem(gamma_xx)"
   ]
  },
  {
   "cell_type": "code",
   "execution_count": 9,
   "id": "27f94748",
   "metadata": {},
   "outputs": [
    {
     "data": {
      "text/plain": [
       "<StemContainer object of 3 artists>"
      ]
     },
     "execution_count": 9,
     "metadata": {},
     "output_type": "execute_result"
    },
    {
     "data": {
      "image/png": "[encoded data removed]",
      "text/plain": [
       "<Figure size 432x288 with 1 Axes>"
      ]
     },
     "metadata": {
      "needs_background": "light"
     },
     "output_type": "display_data"
    }
   ],
   "source": [
    "#autocorrelation of noise\n",
    "xd1 = [random.randint(-10,10) for i in range(size_x)]\n",
    "xd = np.add(x,xd1)\n",
    "gammaxdx_d = np.convolve(xd,np.flip(xd))\n",
    "plt.stem(gammaxdx_d)"
   ]
  },
  {
   "cell_type": "code",
   "execution_count": 10,
   "id": "3098ada0",
   "metadata": {},
   "outputs": [
    {
     "data": {
      "text/plain": [
       "<StemContainer object of 3 artists>"
      ]
     },
     "execution_count": 10,
     "metadata": {},
     "output_type": "execute_result"
    },
    {
     "data": {
      "image/png": "[encoded data removed]",
      "text/plain": [
       "<Figure size 432x288 with 1 Axes>"
      ]
     },
     "metadata": {
      "needs_background": "light"
     },
     "output_type": "display_data"
    }
   ],
   "source": [
    "#correlation with noise\n",
    "gammaxx_d = np.convolve(x,np.flip(xd))\n",
    "plt.stem(gammaxx_d)"
   ]
  },
  {
   "cell_type": "code",
   "execution_count": 11,
   "id": "2b004039",
   "metadata": {},
   "outputs": [
    {
     "data": {
      "text/plain": [
       "<StemContainer object of 3 artists>"
      ]
     },
     "execution_count": 11,
     "metadata": {},
     "output_type": "execute_result"
    },
    {
     "data": {
      "image/png": "[encoded data removed]",
      "text/plain": [
       "<Figure size 432x288 with 1 Axes>"
      ]
     },
     "metadata": {
      "needs_background": "light"
     },
     "output_type": "display_data"
    }
   ],
   "source": [
    "y1 = deque(x)\n",
    "y1.rotate(2)\n",
    "gammaxy1 = np.convolve(x,np.flip(y1))\n",
    "plt.stem(gammaxy1)"
   ]
  },
  {
   "cell_type": "code",
   "execution_count": 12,
   "id": "936a8304",
   "metadata": {},
   "outputs": [
    {
     "data": {
      "text/plain": [
       "<StemContainer object of 3 artists>"
      ]
     },
     "execution_count": 12,
     "metadata": {},
     "output_type": "execute_result"
    },
    {
     "data": {
      "image/png": "[encoded data removed]",
      "text/plain": [
       "<Figure size 432x288 with 1 Axes>"
      ]
     },
     "metadata": {
      "needs_background": "light"
     },
     "output_type": "display_data"
    }
   ],
   "source": [
    "gammaxd1x_d1 = np.convolve(xd1,np.flip(xd1))\n",
    "plt.stem(gammaxd1x_d1)"
   ]
  },
  {
   "cell_type": "code",
   "execution_count": null,
   "id": "818b5768",
   "metadata": {},
   "outputs": [],
   "source": []
  },
  {
   "cell_type": "code",
   "execution_count": null,
   "id": "de2fd123",
   "metadata": {},
   "outputs": [],
   "source": []
  }
 ],
 "metadata": {
  "kernelspec": {
   "display_name": "Python 3 (ipykernel)",
   "language": "python",
   "name": "python3"
  },
  "language_info": {
   "codemirror_mode": {
    "name": "ipython",
    "version": 3
   },
   "file_extension": ".py",
   "mimetype": "text/x-python",
   "name": "python",
   "nbconvert_exporter": "python",
   "pygments_lexer": "ipython3",
   "version": "3.9.7"
  }
 },
 "nbformat": 4,
 "nbformat_minor": 5
}
